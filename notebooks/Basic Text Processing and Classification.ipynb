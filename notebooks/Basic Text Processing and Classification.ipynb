{
 "cells": [
  {
   "cell_type": "code",
   "execution_count": 52,
   "metadata": {},
   "outputs": [],
   "source": [
    "import numpy as np\n",
    "\n",
    "from sklearn.datasets import fetch_20newsgroups\n",
    "\n",
    "from pprint import pprint"
   ]
  },
  {
   "cell_type": "code",
   "execution_count": 2,
   "metadata": {},
   "outputs": [],
   "source": [
    "twenty_news=fetch_20newsgroups()"
   ]
  },
  {
   "cell_type": "code",
   "execution_count": 3,
   "metadata": {},
   "outputs": [
    {
     "name": "stdout",
     "output_type": "stream",
     "text": [
      ".. _20newsgroups_dataset:\n",
      "\n",
      "The 20 newsgroups text dataset\n",
      "------------------------------\n",
      "\n",
      "The 20 newsgroups dataset comprises around 18000 newsgroups posts on\n",
      "20 topics split in two subsets: one for training (or development)\n",
      "and the other one for testing (or for performance evaluation). The split\n",
      "between the train and test set is based upon a messages posted before\n",
      "and after a specific date.\n",
      "\n",
      "This module contains two loaders. The first one,\n",
      ":func:`sklearn.datasets.fetch_20newsgroups`,\n",
      "returns a list of the raw texts that can be fed to text feature\n",
      "extractors such as :class:`sklearn.feature_extraction.text.CountVectorizer`\n",
      "with custom parameters so as to extract feature vectors.\n",
      "The second one, :func:`sklearn.datasets.fetch_20newsgroups_vectorized`,\n",
      "returns ready-to-use features, i.e., it is not necessary to use a feature\n",
      "extractor.\n",
      "\n",
      "**Data Set Characteristics:**\n",
      "\n",
      "    =================   ==========\n",
      "    Classes                     20\n",
      "    Samples total            18846\n",
      "    Dimensionality               1\n",
      "    Features                  text\n",
      "    =================   ==========\n",
      "\n",
      "Usage\n",
      "~~~~~\n",
      "\n",
      "The :func:`sklearn.datasets.fetch_20newsgroups` function is a data\n",
      "fetching / caching functions that downloads the data archive from\n",
      "the original `20 newsgroups website`_, extracts the archive contents\n",
      "in the ``~/scikit_learn_data/20news_home`` folder and calls the\n",
      ":func:`sklearn.datasets.load_files` on either the training or\n",
      "testing set folder, or both of them::\n",
      "\n",
      "  >>> from sklearn.datasets import fetch_20newsgroups\n",
      "  >>> newsgroups_train = fetch_20newsgroups(subset='train')\n",
      "\n",
      "  >>> from pprint import pprint\n",
      "  >>> pprint(list(newsgroups_train.target_names))\n",
      "  ['alt.atheism',\n",
      "   'comp.graphics',\n",
      "   'comp.os.ms-windows.misc',\n",
      "   'comp.sys.ibm.pc.hardware',\n",
      "   'comp.sys.mac.hardware',\n",
      "   'comp.windows.x',\n",
      "   'misc.forsale',\n",
      "   'rec.autos',\n",
      "   'rec.motorcycles',\n",
      "   'rec.sport.baseball',\n",
      "   'rec.sport.hockey',\n",
      "   'sci.crypt',\n",
      "   'sci.electronics',\n",
      "   'sci.med',\n",
      "   'sci.space',\n",
      "   'soc.religion.christian',\n",
      "   'talk.politics.guns',\n",
      "   'talk.politics.mideast',\n",
      "   'talk.politics.misc',\n",
      "   'talk.religion.misc']\n",
      "\n",
      "The real data lies in the ``filenames`` and ``target`` attributes. The target\n",
      "attribute is the integer index of the category::\n",
      "\n",
      "  >>> newsgroups_train.filenames.shape\n",
      "  (11314,)\n",
      "  >>> newsgroups_train.target.shape\n",
      "  (11314,)\n",
      "  >>> newsgroups_train.target[:10]\n",
      "  array([ 7,  4,  4,  1, 14, 16, 13,  3,  2,  4])\n",
      "\n",
      "It is possible to load only a sub-selection of the categories by passing the\n",
      "list of the categories to load to the\n",
      ":func:`sklearn.datasets.fetch_20newsgroups` function::\n",
      "\n",
      "  >>> cats = ['alt.atheism', 'sci.space']\n",
      "  >>> newsgroups_train = fetch_20newsgroups(subset='train', categories=cats)\n",
      "\n",
      "  >>> list(newsgroups_train.target_names)\n",
      "  ['alt.atheism', 'sci.space']\n",
      "  >>> newsgroups_train.filenames.shape\n",
      "  (1073,)\n",
      "  >>> newsgroups_train.target.shape\n",
      "  (1073,)\n",
      "  >>> newsgroups_train.target[:10]\n",
      "  array([0, 1, 1, 1, 0, 1, 1, 0, 0, 0])\n",
      "\n",
      "Converting text to vectors\n",
      "~~~~~~~~~~~~~~~~~~~~~~~~~~\n",
      "\n",
      "In order to feed predictive or clustering models with the text data,\n",
      "one first need to turn the text into vectors of numerical values suitable\n",
      "for statistical analysis. This can be achieved with the utilities of the\n",
      "``sklearn.feature_extraction.text`` as demonstrated in the following\n",
      "example that extract `TF-IDF`_ vectors of unigram tokens\n",
      "from a subset of 20news::\n",
      "\n",
      "  >>> from sklearn.feature_extraction.text import TfidfVectorizer\n",
      "  >>> categories = ['alt.atheism', 'talk.religion.misc',\n",
      "  ...               'comp.graphics', 'sci.space']\n",
      "  >>> newsgroups_train = fetch_20newsgroups(subset='train',\n",
      "  ...                                       categories=categories)\n",
      "  >>> vectorizer = TfidfVectorizer()\n",
      "  >>> vectors = vectorizer.fit_transform(newsgroups_train.data)\n",
      "  >>> vectors.shape\n",
      "  (2034, 34118)\n",
      "\n",
      "The extracted TF-IDF vectors are very sparse, with an average of 159 non-zero\n",
      "components by sample in a more than 30000-dimensional space\n",
      "(less than .5% non-zero features)::\n",
      "\n",
      "  >>> vectors.nnz / float(vectors.shape[0])       # doctest: +ELLIPSIS\n",
      "  159.01327...\n",
      "\n",
      ":func:`sklearn.datasets.fetch_20newsgroups_vectorized` is a function which \n",
      "returns ready-to-use token counts features instead of file names.\n",
      "\n",
      ".. _`20 newsgroups website`: http://people.csail.mit.edu/jrennie/20Newsgroups/\n",
      ".. _`TF-IDF`: https://en.wikipedia.org/wiki/Tf-idf\n",
      "\n",
      "\n",
      "Filtering text for more realistic training\n",
      "~~~~~~~~~~~~~~~~~~~~~~~~~~~~~~~~~~~~~~~~~~\n",
      "\n",
      "It is easy for a classifier to overfit on particular things that appear in the\n",
      "20 Newsgroups data, such as newsgroup headers. Many classifiers achieve very\n",
      "high F-scores, but their results would not generalize to other documents that\n",
      "aren't from this window of time.\n",
      "\n",
      "For example, let's look at the results of a multinomial Naive Bayes classifier,\n",
      "which is fast to train and achieves a decent F-score::\n",
      "\n",
      "  >>> from sklearn.naive_bayes import MultinomialNB\n",
      "  >>> from sklearn import metrics\n",
      "  >>> newsgroups_test = fetch_20newsgroups(subset='test',\n",
      "  ...                                      categories=categories)\n",
      "  >>> vectors_test = vectorizer.transform(newsgroups_test.data)\n",
      "  >>> clf = MultinomialNB(alpha=.01)\n",
      "  >>> clf.fit(vectors, newsgroups_train.target)\n",
      "  MultinomialNB(alpha=0.01, class_prior=None, fit_prior=True)\n",
      "\n",
      "  >>> pred = clf.predict(vectors_test)\n",
      "  >>> metrics.f1_score(newsgroups_test.target, pred, average='macro')  # doctest: +ELLIPSIS\n",
      "  0.88213...\n",
      "\n",
      "(The example :ref:`sphx_glr_auto_examples_text_plot_document_classification_20newsgroups.py` shuffles\n",
      "the training and test data, instead of segmenting by time, and in that case\n",
      "multinomial Naive Bayes gets a much higher F-score of 0.88. Are you suspicious\n",
      "yet of what's going on inside this classifier?)\n",
      "\n",
      "Let's take a look at what the most informative features are:\n",
      "\n",
      "  >>> import numpy as np\n",
      "  >>> def show_top10(classifier, vectorizer, categories):\n",
      "  ...     feature_names = np.asarray(vectorizer.get_feature_names())\n",
      "  ...     for i, category in enumerate(categories):\n",
      "  ...         top10 = np.argsort(classifier.coef_[i])[-10:]\n",
      "  ...         print(\"%s: %s\" % (category, \" \".join(feature_names[top10])))\n",
      "  ...\n",
      "  >>> show_top10(clf, vectorizer, newsgroups_train.target_names)\n",
      "  alt.atheism: edu it and in you that is of to the\n",
      "  comp.graphics: edu in graphics it is for and of to the\n",
      "  sci.space: edu it that is in and space to of the\n",
      "  talk.religion.misc: not it you in is that and to of the\n",
      "\n",
      "\n",
      "You can now see many things that these features have overfit to:\n",
      "\n",
      "- Almost every group is distinguished by whether headers such as\n",
      "  ``NNTP-Posting-Host:`` and ``Distribution:`` appear more or less often.\n",
      "- Another significant feature involves whether the sender is affiliated with\n",
      "  a university, as indicated either by their headers or their signature.\n",
      "- The word \"article\" is a significant feature, based on how often people quote\n",
      "  previous posts like this: \"In article [article ID], [name] <[e-mail address]>\n",
      "  wrote:\"\n",
      "- Other features match the names and e-mail addresses of particular people who\n",
      "  were posting at the time.\n",
      "\n",
      "With such an abundance of clues that distinguish newsgroups, the classifiers\n",
      "barely have to identify topics from text at all, and they all perform at the\n",
      "same high level.\n",
      "\n",
      "For this reason, the functions that load 20 Newsgroups data provide a\n",
      "parameter called **remove**, telling it what kinds of information to strip out\n",
      "of each file. **remove** should be a tuple containing any subset of\n",
      "``('headers', 'footers', 'quotes')``, telling it to remove headers, signature\n",
      "blocks, and quotation blocks respectively.\n",
      "\n",
      "  >>> newsgroups_test = fetch_20newsgroups(subset='test',\n",
      "  ...                                      remove=('headers', 'footers', 'quotes'),\n",
      "  ...                                      categories=categories)\n",
      "  >>> vectors_test = vectorizer.transform(newsgroups_test.data)\n",
      "  >>> pred = clf.predict(vectors_test)\n",
      "  >>> metrics.f1_score(pred, newsgroups_test.target, average='macro')  # doctest: +ELLIPSIS\n",
      "  0.77310...\n",
      "\n",
      "This classifier lost over a lot of its F-score, just because we removed\n",
      "metadata that has little to do with topic classification.\n",
      "It loses even more if we also strip this metadata from the training data:\n",
      "\n",
      "  >>> newsgroups_train = fetch_20newsgroups(subset='train',\n",
      "  ...                                       remove=('headers', 'footers', 'quotes'),\n",
      "  ...                                       categories=categories)\n",
      "  >>> vectors = vectorizer.fit_transform(newsgroups_train.data)\n",
      "  >>> clf = MultinomialNB(alpha=.01)\n",
      "  >>> clf.fit(vectors, newsgroups_train.target)\n",
      "  MultinomialNB(alpha=0.01, class_prior=None, fit_prior=True)\n",
      "\n",
      "  >>> vectors_test = vectorizer.transform(newsgroups_test.data)\n",
      "  >>> pred = clf.predict(vectors_test)\n",
      "  >>> metrics.f1_score(newsgroups_test.target, pred, average='macro')  # doctest: +ELLIPSIS\n",
      "  0.76995...\n",
      "\n",
      "Some other classifiers cope better with this harder version of the task. Try\n",
      "running :ref:`sphx_glr_auto_examples_model_selection_grid_search_text_feature_extraction.py` with and without\n",
      "the ``--filter`` option to compare the results.\n",
      "\n",
      ".. topic:: Recommendation\n",
      "\n",
      "  When evaluating text classifiers on the 20 Newsgroups data, you\n",
      "  should strip newsgroup-related metadata. In scikit-learn, you can do this by\n",
      "  setting ``remove=('headers', 'footers', 'quotes')``. The F-score will be\n",
      "  lower because it is more realistic.\n",
      "\n",
      ".. topic:: Examples\n",
      "\n",
      "   * :ref:`sphx_glr_auto_examples_model_selection_grid_search_text_feature_extraction.py`\n",
      "\n",
      "   * :ref:`sphx_glr_auto_examples_text_plot_document_classification_20newsgroups.py`\n",
      "\n"
     ]
    }
   ],
   "source": [
    "print(twenty_news.DESCR)"
   ]
  },
  {
   "cell_type": "code",
   "execution_count": 4,
   "metadata": {},
   "outputs": [
    {
     "name": "stdout",
     "output_type": "stream",
     "text": [
      "['alt.atheism',\n",
      " 'comp.graphics',\n",
      " 'comp.os.ms-windows.misc',\n",
      " 'comp.sys.ibm.pc.hardware',\n",
      " 'comp.sys.mac.hardware',\n",
      " 'comp.windows.x',\n",
      " 'misc.forsale',\n",
      " 'rec.autos',\n",
      " 'rec.motorcycles',\n",
      " 'rec.sport.baseball',\n",
      " 'rec.sport.hockey',\n",
      " 'sci.crypt',\n",
      " 'sci.electronics',\n",
      " 'sci.med',\n",
      " 'sci.space',\n",
      " 'soc.religion.christian',\n",
      " 'talk.politics.guns',\n",
      " 'talk.politics.mideast',\n",
      " 'talk.politics.misc',\n",
      " 'talk.religion.misc']\n"
     ]
    }
   ],
   "source": [
    "pprint(twenty_news.target_names)"
   ]
  },
  {
   "cell_type": "code",
   "execution_count": 5,
   "metadata": {},
   "outputs": [
    {
     "data": {
      "text/plain": [
       "11314"
      ]
     },
     "execution_count": 5,
     "metadata": {},
     "output_type": "execute_result"
    }
   ],
   "source": [
    "len(twenty_news.data)"
   ]
  },
  {
   "cell_type": "code",
   "execution_count": 6,
   "metadata": {},
   "outputs": [],
   "source": [
    "twenty_news = fetch_20newsgroups(categories=['sci.med', 'sci.space'])"
   ]
  },
  {
   "cell_type": "code",
   "execution_count": 7,
   "metadata": {},
   "outputs": [
    {
     "name": "stdout",
     "output_type": "stream",
     "text": [
      "['sci.med', 'sci.space']\n"
     ]
    }
   ],
   "source": [
    "pprint(list(twenty_news.target_names))"
   ]
  },
  {
   "cell_type": "code",
   "execution_count": 9,
   "metadata": {},
   "outputs": [
    {
     "data": {
      "text/plain": [
       "1187"
      ]
     },
     "execution_count": 9,
     "metadata": {},
     "output_type": "execute_result"
    }
   ],
   "source": [
    "len(twenty_news.data)"
   ]
  },
  {
   "cell_type": "code",
   "execution_count": 15,
   "metadata": {},
   "outputs": [
    {
     "name": "stdout",
     "output_type": "stream",
     "text": [
      "From: flb@flb.optiplan.fi (\"F.Baube[tm]\")\n",
      "Subject: Vandalizing the sky\n",
      "X-Added: Forwarded by Space Digest\n",
      "Organization: [via International Space University]\n",
      "Original-Sender: isu@VACATION.VENARI.CS.CMU.EDU\n"
     ]
    }
   ],
   "source": [
    "print(\"\\n\".join(twenty_news.data[0].split(\"\\n\")[:5]))"
   ]
  },
  {
   "cell_type": "code",
   "execution_count": 16,
   "metadata": {},
   "outputs": [
    {
     "name": "stdout",
     "output_type": "stream",
     "text": [
      "sci.space\n"
     ]
    }
   ],
   "source": [
    "print(twenty_news.target_names[twenty_news.target[0]])"
   ]
  },
  {
   "cell_type": "code",
   "execution_count": 17,
   "metadata": {},
   "outputs": [],
   "source": [
    "from sklearn.feature_extraction.text import CountVectorizer"
   ]
  },
  {
   "cell_type": "code",
   "execution_count": 19,
   "metadata": {},
   "outputs": [],
   "source": [
    "vect = CountVectorizer(lowercase=True, ngram_range=(1, 1), min_df=5, binary=True)"
   ]
  },
  {
   "cell_type": "code",
   "execution_count": 20,
   "metadata": {},
   "outputs": [],
   "source": [
    "X = vect.fit_transform(twenty_news.data)"
   ]
  },
  {
   "cell_type": "code",
   "execution_count": 21,
   "metadata": {},
   "outputs": [
    {
     "data": {
      "text/plain": [
       "(1187, 5920)"
      ]
     },
     "execution_count": 21,
     "metadata": {},
     "output_type": "execute_result"
    }
   ],
   "source": [
    "X.shape"
   ]
  },
  {
   "cell_type": "code",
   "execution_count": 23,
   "metadata": {},
   "outputs": [
    {
     "data": {
      "text/plain": [
       "['00', '000', '0005', '01', '01wb', '02', '03', '0358', '0362', '04']"
      ]
     },
     "execution_count": 23,
     "metadata": {},
     "output_type": "execute_result"
    }
   ],
   "source": [
    "vect.get_feature_names()[:10]"
   ]
  },
  {
   "cell_type": "code",
   "execution_count": 24,
   "metadata": {},
   "outputs": [
    {
     "data": {
      "text/plain": [
       "['z1',\n",
       " 'zabriskie',\n",
       " 'zcomm',\n",
       " 'zealand',\n",
       " 'zero',\n",
       " 'zeus',\n",
       " 'zisfein',\n",
       " 'zmodem',\n",
       " 'zoo',\n",
       " 'zoology']"
      ]
     },
     "execution_count": 24,
     "metadata": {},
     "output_type": "execute_result"
    }
   ],
   "source": [
    "vect.get_feature_names()[-10:]"
   ]
  },
  {
   "cell_type": "code",
   "execution_count": 46,
   "metadata": {},
   "outputs": [],
   "source": [
    "y = twenty_news.target\n",
    "feature_names = vect.get_feature_names()\n",
    "target_names = twenty_news.target_names"
   ]
  },
  {
   "cell_type": "code",
   "execution_count": 41,
   "metadata": {},
   "outputs": [],
   "source": [
    "from sklearn import tree"
   ]
  },
  {
   "cell_type": "code",
   "execution_count": 57,
   "metadata": {},
   "outputs": [],
   "source": [
    "clf = tree.DecisionTreeClassifier(max_depth=4)"
   ]
  },
  {
   "cell_type": "code",
   "execution_count": 58,
   "metadata": {},
   "outputs": [
    {
     "data": {
      "text/plain": [
       "DecisionTreeClassifier(class_weight=None, criterion='gini', max_depth=4,\n",
       "            max_features=None, max_leaf_nodes=None,\n",
       "            min_impurity_decrease=0.0, min_impurity_split=None,\n",
       "            min_samples_leaf=1, min_samples_split=2,\n",
       "            min_weight_fraction_leaf=0.0, presort=False, random_state=None,\n",
       "            splitter='best')"
      ]
     },
     "execution_count": 58,
     "metadata": {},
     "output_type": "execute_result"
    }
   ],
   "source": [
    "clf.fit(X, y)"
   ]
  },
  {
   "cell_type": "code",
   "execution_count": 59,
   "metadata": {},
   "outputs": [],
   "source": [
    "import graphviz"
   ]
  },
  {
   "cell_type": "code",
   "execution_count": 60,
   "metadata": {},
   "outputs": [
    {
     "data": {
      "image/svg+xml": [
       "<?xml version=\"1.0\" encoding=\"UTF-8\" standalone=\"no\"?>\r\n",
       "<!DOCTYPE svg PUBLIC \"-//W3C//DTD SVG 1.1//EN\"\r\n",
       " \"http://www.w3.org/Graphics/SVG/1.1/DTD/svg11.dtd\">\r\n",
       "<!-- Generated by graphviz version 2.38.0 (20140413.2041)\r\n",
       " -->\r\n",
       "<!-- Title: Tree Pages: 1 -->\r\n",
       "<svg width=\"802pt\" height=\"620pt\"\r\n",
       " viewBox=\"0.00 0.00 802.00 620.00\" xmlns=\"http://www.w3.org/2000/svg\" xmlns:xlink=\"http://www.w3.org/1999/xlink\">\r\n",
       "<g id=\"graph0\" class=\"graph\" transform=\"scale(1 1) rotate(0) translate(4 616)\">\r\n",
       "<title>Tree</title>\r\n",
       "<polygon fill=\"white\" stroke=\"none\" points=\"-4,4 -4,-616 798,-616 798,4 -4,4\"/>\r\n",
       "<!-- 0 -->\r\n",
       "<g id=\"node1\" class=\"node\"><title>0</title>\r\n",
       "<path fill=\"none\" stroke=\"black\" d=\"M118,-309.5C118,-309.5 12,-309.5 12,-309.5 6,-309.5 0,-303.5 0,-297.5 0,-297.5 0,-238.5 0,-238.5 0,-232.5 6,-226.5 12,-226.5 12,-226.5 118,-226.5 118,-226.5 124,-226.5 130,-232.5 130,-238.5 130,-238.5 130,-297.5 130,-297.5 130,-303.5 124,-309.5 118,-309.5\"/>\r\n",
       "<text text-anchor=\"start\" x=\"27.5\" y=\"-294.3\" font-family=\"Helvetica,sans-Serif\" font-size=\"14.00\">space ≤ 0.5</text>\r\n",
       "<text text-anchor=\"start\" x=\"36\" y=\"-279.3\" font-family=\"Helvetica,sans-Serif\" font-size=\"14.00\">gini = 0.5</text>\r\n",
       "<text text-anchor=\"start\" x=\"13.5\" y=\"-264.3\" font-family=\"Helvetica,sans-Serif\" font-size=\"14.00\">samples = 1187</text>\r\n",
       "<text text-anchor=\"start\" x=\"8\" y=\"-249.3\" font-family=\"Helvetica,sans-Serif\" font-size=\"14.00\">value = [594, 593]</text>\r\n",
       "<text text-anchor=\"start\" x=\"15\" y=\"-234.3\" font-family=\"Helvetica,sans-Serif\" font-size=\"14.00\">class = sci.med</text>\r\n",
       "</g>\r\n",
       "<!-- 1 -->\r\n",
       "<g id=\"node2\" class=\"node\"><title>1</title>\r\n",
       "<path fill=\"#e58139\" fill-opacity=\"0.521569\" stroke=\"black\" d=\"M284,-360.5C284,-360.5 178,-360.5 178,-360.5 172,-360.5 166,-354.5 166,-348.5 166,-348.5 166,-289.5 166,-289.5 166,-283.5 172,-277.5 178,-277.5 178,-277.5 284,-277.5 284,-277.5 290,-277.5 296,-283.5 296,-289.5 296,-289.5 296,-348.5 296,-348.5 296,-354.5 290,-360.5 284,-360.5\"/>\r\n",
       "<text text-anchor=\"start\" x=\"199\" y=\"-345.3\" font-family=\"Helvetica,sans-Serif\" font-size=\"14.00\">orbit ≤ 0.5</text>\r\n",
       "<text text-anchor=\"start\" x=\"193.5\" y=\"-330.3\" font-family=\"Helvetica,sans-Serif\" font-size=\"14.00\">gini = 0.438</text>\r\n",
       "<text text-anchor=\"start\" x=\"183.5\" y=\"-315.3\" font-family=\"Helvetica,sans-Serif\" font-size=\"14.00\">samples = 857</text>\r\n",
       "<text text-anchor=\"start\" x=\"174\" y=\"-300.3\" font-family=\"Helvetica,sans-Serif\" font-size=\"14.00\">value = [579, 278]</text>\r\n",
       "<text text-anchor=\"start\" x=\"181\" y=\"-285.3\" font-family=\"Helvetica,sans-Serif\" font-size=\"14.00\">class = sci.med</text>\r\n",
       "</g>\r\n",
       "<!-- 0&#45;&gt;1 -->\r\n",
       "<g id=\"edge1\" class=\"edge\"><title>0&#45;&gt;1</title>\r\n",
       "<path fill=\"none\" stroke=\"black\" d=\"M130.346,-288.01C138.822,-290.646 147.563,-293.364 156.181,-296.044\"/>\r\n",
       "<polygon fill=\"black\" stroke=\"black\" points=\"155.251,-299.42 165.839,-299.048 157.33,-292.736 155.251,-299.42\"/>\r\n",
       "<text text-anchor=\"middle\" x=\"143.709\" y=\"-306.978\" font-family=\"Helvetica,sans-Serif\" font-size=\"14.00\">True</text>\r\n",
       "</g>\r\n",
       "<!-- 8 -->\r\n",
       "<g id=\"node9\" class=\"node\"><title>8</title>\r\n",
       "<path fill=\"#399de5\" fill-opacity=\"0.952941\" stroke=\"black\" d=\"M282,-259.5C282,-259.5 180,-259.5 180,-259.5 174,-259.5 168,-253.5 168,-247.5 168,-247.5 168,-188.5 168,-188.5 168,-182.5 174,-176.5 180,-176.5 180,-176.5 282,-176.5 282,-176.5 288,-176.5 294,-182.5 294,-188.5 294,-188.5 294,-247.5 294,-247.5 294,-253.5 288,-259.5 282,-259.5\"/>\r\n",
       "<text text-anchor=\"start\" x=\"188\" y=\"-244.3\" font-family=\"Helvetica,sans-Serif\" font-size=\"14.00\">disease ≤ 0.5</text>\r\n",
       "<text text-anchor=\"start\" x=\"193.5\" y=\"-229.3\" font-family=\"Helvetica,sans-Serif\" font-size=\"14.00\">gini = 0.087</text>\r\n",
       "<text text-anchor=\"start\" x=\"183.5\" y=\"-214.3\" font-family=\"Helvetica,sans-Serif\" font-size=\"14.00\">samples = 330</text>\r\n",
       "<text text-anchor=\"start\" x=\"178\" y=\"-199.3\" font-family=\"Helvetica,sans-Serif\" font-size=\"14.00\">value = [15, 315]</text>\r\n",
       "<text text-anchor=\"start\" x=\"176\" y=\"-184.3\" font-family=\"Helvetica,sans-Serif\" font-size=\"14.00\">class = sci.space</text>\r\n",
       "</g>\r\n",
       "<!-- 0&#45;&gt;8 -->\r\n",
       "<g id=\"edge8\" class=\"edge\"><title>0&#45;&gt;8</title>\r\n",
       "<path fill=\"none\" stroke=\"black\" d=\"M130.346,-248.382C139.538,-245.58 149.039,-242.683 158.359,-239.842\"/>\r\n",
       "<polygon fill=\"black\" stroke=\"black\" points=\"159.441,-243.171 167.986,-236.907 157.4,-236.475 159.441,-243.171\"/>\r\n",
       "<text text-anchor=\"middle\" x=\"145.921\" y=\"-221.453\" font-family=\"Helvetica,sans-Serif\" font-size=\"14.00\">False</text>\r\n",
       "</g>\r\n",
       "<!-- 2 -->\r\n",
       "<g id=\"node3\" class=\"node\"><title>2</title>\r\n",
       "<path fill=\"#e58139\" fill-opacity=\"0.623529\" stroke=\"black\" d=\"M450,-452.5C450,-452.5 344,-452.5 344,-452.5 338,-452.5 332,-446.5 332,-440.5 332,-440.5 332,-381.5 332,-381.5 332,-375.5 338,-369.5 344,-369.5 344,-369.5 450,-369.5 450,-369.5 456,-369.5 462,-375.5 462,-381.5 462,-381.5 462,-440.5 462,-440.5 462,-446.5 456,-452.5 450,-452.5\"/>\r\n",
       "<text text-anchor=\"start\" x=\"368.5\" y=\"-437.3\" font-family=\"Helvetica,sans-Serif\" font-size=\"14.00\">prb ≤ 0.5</text>\r\n",
       "<text text-anchor=\"start\" x=\"359.5\" y=\"-422.3\" font-family=\"Helvetica,sans-Serif\" font-size=\"14.00\">gini = 0.398</text>\r\n",
       "<text text-anchor=\"start\" x=\"349.5\" y=\"-407.3\" font-family=\"Helvetica,sans-Serif\" font-size=\"14.00\">samples = 798</text>\r\n",
       "<text text-anchor=\"start\" x=\"340\" y=\"-392.3\" font-family=\"Helvetica,sans-Serif\" font-size=\"14.00\">value = [579, 219]</text>\r\n",
       "<text text-anchor=\"start\" x=\"347\" y=\"-377.3\" font-family=\"Helvetica,sans-Serif\" font-size=\"14.00\">class = sci.med</text>\r\n",
       "</g>\r\n",
       "<!-- 1&#45;&gt;2 -->\r\n",
       "<g id=\"edge2\" class=\"edge\"><title>1&#45;&gt;2</title>\r\n",
       "<path fill=\"none\" stroke=\"black\" d=\"M296.346,-355.097C305.096,-360.005 314.127,-365.071 323.015,-370.057\"/>\r\n",
       "<polygon fill=\"black\" stroke=\"black\" points=\"321.405,-373.167 331.839,-375.007 324.83,-367.062 321.405,-373.167\"/>\r\n",
       "</g>\r\n",
       "<!-- 7 -->\r\n",
       "<g id=\"node8\" class=\"node\"><title>7</title>\r\n",
       "<path fill=\"#399de5\" stroke=\"black\" d=\"M448,-351C448,-351 346,-351 346,-351 340,-351 334,-345 334,-339 334,-339 334,-295 334,-295 334,-289 340,-283 346,-283 346,-283 448,-283 448,-283 454,-283 460,-289 460,-295 460,-295 460,-339 460,-339 460,-345 454,-351 448,-351\"/>\r\n",
       "<text text-anchor=\"start\" x=\"368\" y=\"-335.8\" font-family=\"Helvetica,sans-Serif\" font-size=\"14.00\">gini = 0.0</text>\r\n",
       "<text text-anchor=\"start\" x=\"353.5\" y=\"-320.8\" font-family=\"Helvetica,sans-Serif\" font-size=\"14.00\">samples = 59</text>\r\n",
       "<text text-anchor=\"start\" x=\"352.5\" y=\"-305.8\" font-family=\"Helvetica,sans-Serif\" font-size=\"14.00\">value = [0, 59]</text>\r\n",
       "<text text-anchor=\"start\" x=\"342\" y=\"-290.8\" font-family=\"Helvetica,sans-Serif\" font-size=\"14.00\">class = sci.space</text>\r\n",
       "</g>\r\n",
       "<!-- 1&#45;&gt;7 -->\r\n",
       "<g id=\"edge7\" class=\"edge\"><title>1&#45;&gt;7</title>\r\n",
       "<path fill=\"none\" stroke=\"black\" d=\"M296.346,-318.215C305.344,-318.106 314.639,-317.992 323.771,-317.881\"/>\r\n",
       "<polygon fill=\"black\" stroke=\"black\" points=\"324.029,-321.378 333.986,-317.756 323.944,-314.379 324.029,-321.378\"/>\r\n",
       "</g>\r\n",
       "<!-- 3 -->\r\n",
       "<g id=\"node4\" class=\"node\"><title>3</title>\r\n",
       "<path fill=\"#e58139\" fill-opacity=\"0.686275\" stroke=\"black\" d=\"M616,-545.5C616,-545.5 510,-545.5 510,-545.5 504,-545.5 498,-539.5 498,-533.5 498,-533.5 498,-474.5 498,-474.5 498,-468.5 504,-462.5 510,-462.5 510,-462.5 616,-462.5 616,-462.5 622,-462.5 628,-468.5 628,-474.5 628,-474.5 628,-533.5 628,-533.5 628,-539.5 622,-545.5 616,-545.5\"/>\r\n",
       "<text text-anchor=\"start\" x=\"527\" y=\"-530.3\" font-family=\"Helvetica,sans-Serif\" font-size=\"14.00\">moon ≤ 0.5</text>\r\n",
       "<text text-anchor=\"start\" x=\"525.5\" y=\"-515.3\" font-family=\"Helvetica,sans-Serif\" font-size=\"14.00\">gini = 0.364</text>\r\n",
       "<text text-anchor=\"start\" x=\"515.5\" y=\"-500.3\" font-family=\"Helvetica,sans-Serif\" font-size=\"14.00\">samples = 761</text>\r\n",
       "<text text-anchor=\"start\" x=\"506\" y=\"-485.3\" font-family=\"Helvetica,sans-Serif\" font-size=\"14.00\">value = [579, 182]</text>\r\n",
       "<text text-anchor=\"start\" x=\"513\" y=\"-470.3\" font-family=\"Helvetica,sans-Serif\" font-size=\"14.00\">class = sci.med</text>\r\n",
       "</g>\r\n",
       "<!-- 2&#45;&gt;3 -->\r\n",
       "<g id=\"edge3\" class=\"edge\"><title>2&#45;&gt;3</title>\r\n",
       "<path fill=\"none\" stroke=\"black\" d=\"M462.346,-447.489C471.096,-452.451 480.127,-457.572 489.015,-462.612\"/>\r\n",
       "<polygon fill=\"black\" stroke=\"black\" points=\"487.414,-465.728 497.839,-467.616 490.867,-459.639 487.414,-465.728\"/>\r\n",
       "</g>\r\n",
       "<!-- 6 -->\r\n",
       "<g id=\"node7\" class=\"node\"><title>6</title>\r\n",
       "<path fill=\"#399de5\" stroke=\"black\" d=\"M614,-444C614,-444 512,-444 512,-444 506,-444 500,-438 500,-432 500,-432 500,-388 500,-388 500,-382 506,-376 512,-376 512,-376 614,-376 614,-376 620,-376 626,-382 626,-388 626,-388 626,-432 626,-432 626,-438 620,-444 614,-444\"/>\r\n",
       "<text text-anchor=\"start\" x=\"534\" y=\"-428.8\" font-family=\"Helvetica,sans-Serif\" font-size=\"14.00\">gini = 0.0</text>\r\n",
       "<text text-anchor=\"start\" x=\"519.5\" y=\"-413.8\" font-family=\"Helvetica,sans-Serif\" font-size=\"14.00\">samples = 37</text>\r\n",
       "<text text-anchor=\"start\" x=\"518.5\" y=\"-398.8\" font-family=\"Helvetica,sans-Serif\" font-size=\"14.00\">value = [0, 37]</text>\r\n",
       "<text text-anchor=\"start\" x=\"508\" y=\"-383.8\" font-family=\"Helvetica,sans-Serif\" font-size=\"14.00\">class = sci.space</text>\r\n",
       "</g>\r\n",
       "<!-- 2&#45;&gt;6 -->\r\n",
       "<g id=\"edge6\" class=\"edge\"><title>2&#45;&gt;6</title>\r\n",
       "<path fill=\"none\" stroke=\"black\" d=\"M462.346,-410.608C471.344,-410.553 480.639,-410.496 489.771,-410.44\"/>\r\n",
       "<polygon fill=\"black\" stroke=\"black\" points=\"490.007,-413.939 499.986,-410.378 489.965,-406.939 490.007,-413.939\"/>\r\n",
       "</g>\r\n",
       "<!-- 4 -->\r\n",
       "<g id=\"node5\" class=\"node\"><title>4</title>\r\n",
       "<path fill=\"#e58139\" fill-opacity=\"0.745098\" stroke=\"black\" d=\"M782,-612C782,-612 676,-612 676,-612 670,-612 664,-606 664,-600 664,-600 664,-556 664,-556 664,-550 670,-544 676,-544 676,-544 782,-544 782,-544 788,-544 794,-550 794,-556 794,-556 794,-600 794,-600 794,-606 788,-612 782,-612\"/>\r\n",
       "<text text-anchor=\"start\" x=\"691.5\" y=\"-596.8\" font-family=\"Helvetica,sans-Serif\" font-size=\"14.00\">gini = 0.323</text>\r\n",
       "<text text-anchor=\"start\" x=\"681.5\" y=\"-581.8\" font-family=\"Helvetica,sans-Serif\" font-size=\"14.00\">samples = 725</text>\r\n",
       "<text text-anchor=\"start\" x=\"672\" y=\"-566.8\" font-family=\"Helvetica,sans-Serif\" font-size=\"14.00\">value = [578, 147]</text>\r\n",
       "<text text-anchor=\"start\" x=\"679\" y=\"-551.8\" font-family=\"Helvetica,sans-Serif\" font-size=\"14.00\">class = sci.med</text>\r\n",
       "</g>\r\n",
       "<!-- 3&#45;&gt;4 -->\r\n",
       "<g id=\"edge4\" class=\"edge\"><title>3&#45;&gt;4</title>\r\n",
       "<path fill=\"none\" stroke=\"black\" d=\"M628.346,-533.034C636.914,-536.9 645.751,-540.887 654.459,-544.817\"/>\r\n",
       "<polygon fill=\"black\" stroke=\"black\" points=\"653.285,-548.127 663.839,-549.049 656.164,-541.746 653.285,-548.127\"/>\r\n",
       "</g>\r\n",
       "<!-- 5 -->\r\n",
       "<g id=\"node6\" class=\"node\"><title>5</title>\r\n",
       "<path fill=\"#399de5\" fill-opacity=\"0.972549\" stroke=\"black\" d=\"M780,-526C780,-526 678,-526 678,-526 672,-526 666,-520 666,-514 666,-514 666,-470 666,-470 666,-464 672,-458 678,-458 678,-458 780,-458 780,-458 786,-458 792,-464 792,-470 792,-470 792,-514 792,-514 792,-520 786,-526 780,-526\"/>\r\n",
       "<text text-anchor=\"start\" x=\"691.5\" y=\"-510.8\" font-family=\"Helvetica,sans-Serif\" font-size=\"14.00\">gini = 0.054</text>\r\n",
       "<text text-anchor=\"start\" x=\"685.5\" y=\"-495.8\" font-family=\"Helvetica,sans-Serif\" font-size=\"14.00\">samples = 36</text>\r\n",
       "<text text-anchor=\"start\" x=\"684.5\" y=\"-480.8\" font-family=\"Helvetica,sans-Serif\" font-size=\"14.00\">value = [1, 35]</text>\r\n",
       "<text text-anchor=\"start\" x=\"674\" y=\"-465.8\" font-family=\"Helvetica,sans-Serif\" font-size=\"14.00\">class = sci.space</text>\r\n",
       "</g>\r\n",
       "<!-- 3&#45;&gt;5 -->\r\n",
       "<g id=\"edge5\" class=\"edge\"><title>3&#45;&gt;5</title>\r\n",
       "<path fill=\"none\" stroke=\"black\" d=\"M628.346,-499.292C637.344,-498.633 646.639,-497.953 655.771,-497.285\"/>\r\n",
       "<polygon fill=\"black\" stroke=\"black\" points=\"656.268,-500.758 665.986,-496.538 655.757,-493.777 656.268,-500.758\"/>\r\n",
       "</g>\r\n",
       "<!-- 9 -->\r\n",
       "<g id=\"node10\" class=\"node\"><title>9</title>\r\n",
       "<path fill=\"#399de5\" fill-opacity=\"0.976471\" stroke=\"black\" d=\"M448,-261.5C448,-261.5 346,-261.5 346,-261.5 340,-261.5 334,-255.5 334,-249.5 334,-249.5 334,-190.5 334,-190.5 334,-184.5 340,-178.5 346,-178.5 346,-178.5 448,-178.5 448,-178.5 454,-178.5 460,-184.5 460,-190.5 460,-190.5 460,-249.5 460,-249.5 460,-255.5 454,-261.5 448,-261.5\"/>\r\n",
       "<text text-anchor=\"start\" x=\"370.5\" y=\"-246.3\" font-family=\"Helvetica,sans-Serif\" font-size=\"14.00\">ref ≤ 0.5</text>\r\n",
       "<text text-anchor=\"start\" x=\"359.5\" y=\"-231.3\" font-family=\"Helvetica,sans-Serif\" font-size=\"14.00\">gini = 0.048</text>\r\n",
       "<text text-anchor=\"start\" x=\"349.5\" y=\"-216.3\" font-family=\"Helvetica,sans-Serif\" font-size=\"14.00\">samples = 322</text>\r\n",
       "<text text-anchor=\"start\" x=\"348.5\" y=\"-201.3\" font-family=\"Helvetica,sans-Serif\" font-size=\"14.00\">value = [8, 314]</text>\r\n",
       "<text text-anchor=\"start\" x=\"342\" y=\"-186.3\" font-family=\"Helvetica,sans-Serif\" font-size=\"14.00\">class = sci.space</text>\r\n",
       "</g>\r\n",
       "<!-- 8&#45;&gt;9 -->\r\n",
       "<g id=\"edge9\" class=\"edge\"><title>8&#45;&gt;9</title>\r\n",
       "<path fill=\"none\" stroke=\"black\" d=\"M294.001,-218.756C303.696,-218.874 313.787,-218.997 323.688,-219.118\"/>\r\n",
       "<polygon fill=\"black\" stroke=\"black\" points=\"323.869,-222.621 333.911,-219.243 323.954,-215.621 323.869,-222.621\"/>\r\n",
       "</g>\r\n",
       "<!-- 16 -->\r\n",
       "<g id=\"node17\" class=\"node\"><title>16</title>\r\n",
       "<path fill=\"#e58139\" fill-opacity=\"0.858824\" stroke=\"black\" d=\"M443,-160.5C443,-160.5 351,-160.5 351,-160.5 345,-160.5 339,-154.5 339,-148.5 339,-148.5 339,-89.5 339,-89.5 339,-83.5 345,-77.5 351,-77.5 351,-77.5 443,-77.5 443,-77.5 449,-77.5 455,-83.5 455,-89.5 455,-89.5 455,-148.5 455,-148.5 455,-154.5 449,-160.5 443,-160.5\"/>\r\n",
       "<text text-anchor=\"start\" x=\"365\" y=\"-145.3\" font-family=\"Helvetica,sans-Serif\" font-size=\"14.00\">aren ≤ 0.5</text>\r\n",
       "<text text-anchor=\"start\" x=\"359.5\" y=\"-130.3\" font-family=\"Helvetica,sans-Serif\" font-size=\"14.00\">gini = 0.219</text>\r\n",
       "<text text-anchor=\"start\" x=\"357.5\" y=\"-115.3\" font-family=\"Helvetica,sans-Serif\" font-size=\"14.00\">samples = 8</text>\r\n",
       "<text text-anchor=\"start\" x=\"356.5\" y=\"-100.3\" font-family=\"Helvetica,sans-Serif\" font-size=\"14.00\">value = [7, 1]</text>\r\n",
       "<text text-anchor=\"start\" x=\"347\" y=\"-85.3\" font-family=\"Helvetica,sans-Serif\" font-size=\"14.00\">class = sci.med</text>\r\n",
       "</g>\r\n",
       "<!-- 8&#45;&gt;16 -->\r\n",
       "<g id=\"edge16\" class=\"edge\"><title>8&#45;&gt;16</title>\r\n",
       "<path fill=\"none\" stroke=\"black\" d=\"M294.001,-180.572C305.826,-173.434 318.241,-165.94 330.18,-158.733\"/>\r\n",
       "<polygon fill=\"black\" stroke=\"black\" points=\"332.022,-161.709 338.774,-153.545 328.404,-155.717 332.022,-161.709\"/>\r\n",
       "</g>\r\n",
       "<!-- 10 -->\r\n",
       "<g id=\"node11\" class=\"node\"><title>10</title>\r\n",
       "<path fill=\"#399de5\" fill-opacity=\"0.988235\" stroke=\"black\" d=\"M614,-357.5C614,-357.5 512,-357.5 512,-357.5 506,-357.5 500,-351.5 500,-345.5 500,-345.5 500,-286.5 500,-286.5 500,-280.5 506,-274.5 512,-274.5 512,-274.5 614,-274.5 614,-274.5 620,-274.5 626,-280.5 626,-286.5 626,-286.5 626,-345.5 626,-345.5 626,-351.5 620,-357.5 614,-357.5\"/>\r\n",
       "<text text-anchor=\"start\" x=\"528\" y=\"-342.3\" font-family=\"Helvetica,sans-Serif\" font-size=\"14.00\">flavor ≤ 0.5</text>\r\n",
       "<text text-anchor=\"start\" x=\"525.5\" y=\"-327.3\" font-family=\"Helvetica,sans-Serif\" font-size=\"14.00\">gini = 0.025</text>\r\n",
       "<text text-anchor=\"start\" x=\"515.5\" y=\"-312.3\" font-family=\"Helvetica,sans-Serif\" font-size=\"14.00\">samples = 317</text>\r\n",
       "<text text-anchor=\"start\" x=\"514.5\" y=\"-297.3\" font-family=\"Helvetica,sans-Serif\" font-size=\"14.00\">value = [4, 313]</text>\r\n",
       "<text text-anchor=\"start\" x=\"508\" y=\"-282.3\" font-family=\"Helvetica,sans-Serif\" font-size=\"14.00\">class = sci.space</text>\r\n",
       "</g>\r\n",
       "<!-- 9&#45;&gt;10 -->\r\n",
       "<g id=\"edge10\" class=\"edge\"><title>9&#45;&gt;10</title>\r\n",
       "<path fill=\"none\" stroke=\"black\" d=\"M460.001,-256.293C470.206,-262.267 480.85,-268.498 491.249,-274.585\"/>\r\n",
       "<polygon fill=\"black\" stroke=\"black\" points=\"489.513,-277.624 499.911,-279.655 493.049,-271.583 489.513,-277.624\"/>\r\n",
       "</g>\r\n",
       "<!-- 13 -->\r\n",
       "<g id=\"node14\" class=\"node\"><title>13</title>\r\n",
       "<path fill=\"#e58139\" fill-opacity=\"0.749020\" stroke=\"black\" d=\"M609,-256.5C609,-256.5 517,-256.5 517,-256.5 511,-256.5 505,-250.5 505,-244.5 505,-244.5 505,-185.5 505,-185.5 505,-179.5 511,-173.5 517,-173.5 517,-173.5 609,-173.5 609,-173.5 615,-173.5 621,-179.5 621,-185.5 621,-185.5 621,-244.5 621,-244.5 621,-250.5 615,-256.5 609,-256.5\"/>\r\n",
       "<text text-anchor=\"start\" x=\"539.5\" y=\"-241.3\" font-family=\"Helvetica,sans-Serif\" font-size=\"14.00\">pi ≤ 0.5</text>\r\n",
       "<text text-anchor=\"start\" x=\"529.5\" y=\"-226.3\" font-family=\"Helvetica,sans-Serif\" font-size=\"14.00\">gini = 0.32</text>\r\n",
       "<text text-anchor=\"start\" x=\"523.5\" y=\"-211.3\" font-family=\"Helvetica,sans-Serif\" font-size=\"14.00\">samples = 5</text>\r\n",
       "<text text-anchor=\"start\" x=\"522.5\" y=\"-196.3\" font-family=\"Helvetica,sans-Serif\" font-size=\"14.00\">value = [4, 1]</text>\r\n",
       "<text text-anchor=\"start\" x=\"513\" y=\"-181.3\" font-family=\"Helvetica,sans-Serif\" font-size=\"14.00\">class = sci.med</text>\r\n",
       "</g>\r\n",
       "<!-- 9&#45;&gt;13 -->\r\n",
       "<g id=\"edge13\" class=\"edge\"><title>9&#45;&gt;13</title>\r\n",
       "<path fill=\"none\" stroke=\"black\" d=\"M460.001,-218.11C471.252,-217.767 483.037,-217.407 494.438,-217.06\"/>\r\n",
       "<polygon fill=\"black\" stroke=\"black\" points=\"494.885,-220.548 504.774,-216.745 494.672,-213.551 494.885,-220.548\"/>\r\n",
       "</g>\r\n",
       "<!-- 11 -->\r\n",
       "<g id=\"node12\" class=\"node\"><title>11</title>\r\n",
       "<path fill=\"#399de5\" fill-opacity=\"0.992157\" stroke=\"black\" d=\"M780,-429C780,-429 678,-429 678,-429 672,-429 666,-423 666,-417 666,-417 666,-373 666,-373 666,-367 672,-361 678,-361 678,-361 780,-361 780,-361 786,-361 792,-367 792,-373 792,-373 792,-417 792,-417 792,-423 786,-429 780,-429\"/>\r\n",
       "<text text-anchor=\"start\" x=\"691.5\" y=\"-413.8\" font-family=\"Helvetica,sans-Serif\" font-size=\"14.00\">gini = 0.013</text>\r\n",
       "<text text-anchor=\"start\" x=\"681.5\" y=\"-398.8\" font-family=\"Helvetica,sans-Serif\" font-size=\"14.00\">samples = 314</text>\r\n",
       "<text text-anchor=\"start\" x=\"680.5\" y=\"-383.8\" font-family=\"Helvetica,sans-Serif\" font-size=\"14.00\">value = [2, 312]</text>\r\n",
       "<text text-anchor=\"start\" x=\"674\" y=\"-368.8\" font-family=\"Helvetica,sans-Serif\" font-size=\"14.00\">class = sci.space</text>\r\n",
       "</g>\r\n",
       "<!-- 10&#45;&gt;11 -->\r\n",
       "<g id=\"edge11\" class=\"edge\"><title>10&#45;&gt;11</title>\r\n",
       "<path fill=\"none\" stroke=\"black\" d=\"M626.001,-345.867C636.002,-350.684 646.425,-355.705 656.625,-360.618\"/>\r\n",
       "<polygon fill=\"black\" stroke=\"black\" points=\"655.383,-363.905 665.911,-365.091 658.421,-357.598 655.383,-363.905\"/>\r\n",
       "</g>\r\n",
       "<!-- 12 -->\r\n",
       "<g id=\"node13\" class=\"node\"><title>12</title>\r\n",
       "<path fill=\"#e58139\" fill-opacity=\"0.498039\" stroke=\"black\" d=\"M775,-343C775,-343 683,-343 683,-343 677,-343 671,-337 671,-331 671,-331 671,-287 671,-287 671,-281 677,-275 683,-275 683,-275 775,-275 775,-275 781,-275 787,-281 787,-287 787,-287 787,-331 787,-331 787,-337 781,-343 775,-343\"/>\r\n",
       "<text text-anchor=\"start\" x=\"691.5\" y=\"-327.8\" font-family=\"Helvetica,sans-Serif\" font-size=\"14.00\">gini = 0.444</text>\r\n",
       "<text text-anchor=\"start\" x=\"689.5\" y=\"-312.8\" font-family=\"Helvetica,sans-Serif\" font-size=\"14.00\">samples = 3</text>\r\n",
       "<text text-anchor=\"start\" x=\"688.5\" y=\"-297.8\" font-family=\"Helvetica,sans-Serif\" font-size=\"14.00\">value = [2, 1]</text>\r\n",
       "<text text-anchor=\"start\" x=\"679\" y=\"-282.8\" font-family=\"Helvetica,sans-Serif\" font-size=\"14.00\">class = sci.med</text>\r\n",
       "</g>\r\n",
       "<!-- 10&#45;&gt;12 -->\r\n",
       "<g id=\"edge12\" class=\"edge\"><title>10&#45;&gt;12</title>\r\n",
       "<path fill=\"none\" stroke=\"black\" d=\"M626.001,-313.354C637.252,-312.873 649.037,-312.37 660.438,-311.884\"/>\r\n",
       "<polygon fill=\"black\" stroke=\"black\" points=\"660.932,-315.366 670.774,-311.443 660.634,-308.372 660.932,-315.366\"/>\r\n",
       "</g>\r\n",
       "<!-- 14 -->\r\n",
       "<g id=\"node15\" class=\"node\"><title>14</title>\r\n",
       "<path fill=\"#e58139\" stroke=\"black\" d=\"M775,-253C775,-253 683,-253 683,-253 677,-253 671,-247 671,-241 671,-241 671,-197 671,-197 671,-191 677,-185 683,-185 683,-185 775,-185 775,-185 781,-185 787,-191 787,-197 787,-197 787,-241 787,-241 787,-247 781,-253 775,-253\"/>\r\n",
       "<text text-anchor=\"start\" x=\"700\" y=\"-237.8\" font-family=\"Helvetica,sans-Serif\" font-size=\"14.00\">gini = 0.0</text>\r\n",
       "<text text-anchor=\"start\" x=\"689.5\" y=\"-222.8\" font-family=\"Helvetica,sans-Serif\" font-size=\"14.00\">samples = 4</text>\r\n",
       "<text text-anchor=\"start\" x=\"688.5\" y=\"-207.8\" font-family=\"Helvetica,sans-Serif\" font-size=\"14.00\">value = [4, 0]</text>\r\n",
       "<text text-anchor=\"start\" x=\"679\" y=\"-192.8\" font-family=\"Helvetica,sans-Serif\" font-size=\"14.00\">class = sci.med</text>\r\n",
       "</g>\r\n",
       "<!-- 13&#45;&gt;14 -->\r\n",
       "<g id=\"edge14\" class=\"edge\"><title>13&#45;&gt;14</title>\r\n",
       "<path fill=\"none\" stroke=\"black\" d=\"M621.359,-216.399C634.041,-216.708 647.59,-217.039 660.629,-217.357\"/>\r\n",
       "<polygon fill=\"black\" stroke=\"black\" points=\"660.868,-220.864 670.95,-217.609 661.038,-213.866 660.868,-220.864\"/>\r\n",
       "</g>\r\n",
       "<!-- 15 -->\r\n",
       "<g id=\"node16\" class=\"node\"><title>15</title>\r\n",
       "<path fill=\"#399de5\" stroke=\"black\" d=\"M780,-167C780,-167 678,-167 678,-167 672,-167 666,-161 666,-155 666,-155 666,-111 666,-111 666,-105 672,-99 678,-99 678,-99 780,-99 780,-99 786,-99 792,-105 792,-111 792,-111 792,-155 792,-155 792,-161 786,-167 780,-167\"/>\r\n",
       "<text text-anchor=\"start\" x=\"700\" y=\"-151.8\" font-family=\"Helvetica,sans-Serif\" font-size=\"14.00\">gini = 0.0</text>\r\n",
       "<text text-anchor=\"start\" x=\"689.5\" y=\"-136.8\" font-family=\"Helvetica,sans-Serif\" font-size=\"14.00\">samples = 1</text>\r\n",
       "<text text-anchor=\"start\" x=\"688.5\" y=\"-121.8\" font-family=\"Helvetica,sans-Serif\" font-size=\"14.00\">value = [0, 1]</text>\r\n",
       "<text text-anchor=\"start\" x=\"674\" y=\"-106.8\" font-family=\"Helvetica,sans-Serif\" font-size=\"14.00\">class = sci.space</text>\r\n",
       "</g>\r\n",
       "<!-- 13&#45;&gt;15 -->\r\n",
       "<g id=\"edge15\" class=\"edge\"><title>13&#45;&gt;15</title>\r\n",
       "<path fill=\"none\" stroke=\"black\" d=\"M621.359,-186.32C632.842,-180.579 645.035,-174.482 656.917,-168.541\"/>\r\n",
       "<polygon fill=\"black\" stroke=\"black\" points=\"658.547,-171.64 665.926,-164.037 655.416,-165.379 658.547,-171.64\"/>\r\n",
       "</g>\r\n",
       "<!-- 17 -->\r\n",
       "<g id=\"node18\" class=\"node\"><title>17</title>\r\n",
       "<path fill=\"#e58139\" stroke=\"black\" d=\"M609,-154C609,-154 517,-154 517,-154 511,-154 505,-148 505,-142 505,-142 505,-98 505,-98 505,-92 511,-86 517,-86 517,-86 609,-86 609,-86 615,-86 621,-92 621,-98 621,-98 621,-142 621,-142 621,-148 615,-154 609,-154\"/>\r\n",
       "<text text-anchor=\"start\" x=\"534\" y=\"-138.8\" font-family=\"Helvetica,sans-Serif\" font-size=\"14.00\">gini = 0.0</text>\r\n",
       "<text text-anchor=\"start\" x=\"523.5\" y=\"-123.8\" font-family=\"Helvetica,sans-Serif\" font-size=\"14.00\">samples = 7</text>\r\n",
       "<text text-anchor=\"start\" x=\"522.5\" y=\"-108.8\" font-family=\"Helvetica,sans-Serif\" font-size=\"14.00\">value = [7, 0]</text>\r\n",
       "<text text-anchor=\"start\" x=\"513\" y=\"-93.8\" font-family=\"Helvetica,sans-Serif\" font-size=\"14.00\">class = sci.med</text>\r\n",
       "</g>\r\n",
       "<!-- 16&#45;&gt;17 -->\r\n",
       "<g id=\"edge17\" class=\"edge\"><title>16&#45;&gt;17</title>\r\n",
       "<path fill=\"none\" stroke=\"black\" d=\"M455.359,-119.35C468.041,-119.427 481.59,-119.51 494.629,-119.589\"/>\r\n",
       "<polygon fill=\"black\" stroke=\"black\" points=\"494.929,-123.091 504.95,-119.652 494.972,-116.091 494.929,-123.091\"/>\r\n",
       "</g>\r\n",
       "<!-- 18 -->\r\n",
       "<g id=\"node19\" class=\"node\"><title>18</title>\r\n",
       "<path fill=\"#399de5\" stroke=\"black\" d=\"M614,-68C614,-68 512,-68 512,-68 506,-68 500,-62 500,-56 500,-56 500,-12 500,-12 500,-6 506,-0 512,-0 512,-0 614,-0 614,-0 620,-0 626,-6 626,-12 626,-12 626,-56 626,-56 626,-62 620,-68 614,-68\"/>\r\n",
       "<text text-anchor=\"start\" x=\"534\" y=\"-52.8\" font-family=\"Helvetica,sans-Serif\" font-size=\"14.00\">gini = 0.0</text>\r\n",
       "<text text-anchor=\"start\" x=\"523.5\" y=\"-37.8\" font-family=\"Helvetica,sans-Serif\" font-size=\"14.00\">samples = 1</text>\r\n",
       "<text text-anchor=\"start\" x=\"522.5\" y=\"-22.8\" font-family=\"Helvetica,sans-Serif\" font-size=\"14.00\">value = [0, 1]</text>\r\n",
       "<text text-anchor=\"start\" x=\"508\" y=\"-7.8\" font-family=\"Helvetica,sans-Serif\" font-size=\"14.00\">class = sci.space</text>\r\n",
       "</g>\r\n",
       "<!-- 16&#45;&gt;18 -->\r\n",
       "<g id=\"edge18\" class=\"edge\"><title>16&#45;&gt;18</title>\r\n",
       "<path fill=\"none\" stroke=\"black\" d=\"M455.359,-89.2711C466.842,-83.3198 479.035,-77.0001 490.917,-70.8418\"/>\r\n",
       "<polygon fill=\"black\" stroke=\"black\" points=\"492.658,-73.8818 499.926,-66.1727 489.437,-67.6669 492.658,-73.8818\"/>\r\n",
       "</g>\r\n",
       "</g>\r\n",
       "</svg>\r\n"
      ],
      "text/plain": [
       "<graphviz.files.Source at 0x2446c50eda0>"
      ]
     },
     "execution_count": 60,
     "metadata": {},
     "output_type": "execute_result"
    }
   ],
   "source": [
    "dot_data = tree.export_graphviz(clf, out_file=None, \n",
    "                                feature_names=feature_names, class_names=target_names,\n",
    "                                max_depth=None, \n",
    "                                filled=True, rounded=True, rotate=True, special_characters=True)  \n",
    "graph = graphviz.Source(dot_data)\n",
    "#graph.render()\n",
    "graph"
   ]
  },
  {
   "cell_type": "code",
   "execution_count": 61,
   "metadata": {},
   "outputs": [],
   "source": [
    "from sklearn.feature_selection import mutual_info_classif"
   ]
  },
  {
   "cell_type": "code",
   "execution_count": 51,
   "metadata": {},
   "outputs": [],
   "source": [
    "mis = mutual_info_classif(X, y, discrete_features=True)"
   ]
  },
  {
   "cell_type": "code",
   "execution_count": 54,
   "metadata": {},
   "outputs": [
    {
     "name": "stdout",
     "output_type": "stream",
     "text": [
      "space:\t0.1868\n",
      "orbit:\t0.0849\n",
      "pitt:\t0.0774\n",
      "nasa:\t0.0729\n",
      "earth:\t0.0656\n",
      "moon:\t0.0649\n",
      "geb:\t0.0649\n",
      "gordon:\t0.0647\n",
      "disease:\t0.0600\n",
      "launch:\t0.0588\n"
     ]
    }
   ],
   "source": [
    "for i in np.argsort(mis)[::-1][:10]:\n",
    "    print(\"%s:\\t%0.4f\" %(feature_names[i], mis[i]))"
   ]
  },
  {
   "cell_type": "code",
   "execution_count": 62,
   "metadata": {},
   "outputs": [],
   "source": [
    "fis = clf.feature_importances_"
   ]
  },
  {
   "cell_type": "code",
   "execution_count": 63,
   "metadata": {},
   "outputs": [
    {
     "name": "stdout",
     "output_type": "stream",
     "text": [
      "space:\t0.1868\n",
      "orbit:\t0.0849\n",
      "prb:\t0.0466\n",
      "moon:\t0.0649\n",
      "disease:\t0.0600\n",
      "ref:\t0.0006\n",
      "flavor:\t0.0090\n",
      "aren:\t0.0000\n",
      "pi:\t0.0012\n",
      "errors:\t0.0001\n"
     ]
    }
   ],
   "source": [
    "for i in np.argsort(fis)[::-1][:10]:\n",
    "    print(\"%s:\\t%0.4f\" %(feature_names[i], mis[i]))"
   ]
  },
  {
   "cell_type": "code",
   "execution_count": null,
   "metadata": {},
   "outputs": [],
   "source": []
  }
 ],
 "metadata": {
  "kernelspec": {
   "display_name": "Python 3",
   "language": "python",
   "name": "python3"
  },
  "language_info": {
   "codemirror_mode": {
    "name": "ipython",
    "version": 3
   },
   "file_extension": ".py",
   "mimetype": "text/x-python",
   "name": "python",
   "nbconvert_exporter": "python",
   "pygments_lexer": "ipython3",
   "version": "3.5.4"
  }
 },
 "nbformat": 4,
 "nbformat_minor": 2
}
